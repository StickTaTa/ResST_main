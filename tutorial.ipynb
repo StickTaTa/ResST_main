{
 "cells": [
  {
   "cell_type": "markdown",
   "source": [
    "# ResST Tutorial\n",
    "Author: Jinjin Huang\n"
   ],
   "metadata": {
    "collapsed": false
   },
   "id": "15f0d0304f2bbc43"
  },
  {
   "cell_type": "markdown",
   "source": [
    "## Outline\n",
    "1. Installation\n",
    "2. Import modules\n",
    "3. Reading in data\n",
    "4. Enhancing gene expression matrix\n",
    "5. Training model\n",
    "6. Clustering\n",
    "7. Visualization"
   ],
   "metadata": {
    "collapsed": false
   },
   "id": "86511aa53e201e3d"
  },
  {
   "cell_type": "markdown",
   "source": [
    "## 1. Installation\n",
    "To install ResST package you must make sure that your python version is over 3.7.=. If you don’t know the version of python you can check it by:"
   ],
   "metadata": {
    "collapsed": false
   },
   "id": "36c0b73265d24890"
  },
  {
   "cell_type": "code",
   "outputs": [
    {
     "data": {
      "text/plain": "'3.7.0'"
     },
     "execution_count": 1,
     "metadata": {},
     "output_type": "execute_result"
    }
   ],
   "source": [
    "import platform\n",
    "platform.python_version()"
   ],
   "metadata": {
    "collapsed": false,
    "ExecuteTime": {
     "end_time": "2024-04-22T07:33:02.323614700Z",
     "start_time": "2024-04-22T07:33:02.315612900Z"
    }
   },
   "id": "c11647274fc0730a",
   "execution_count": 1
  },
  {
   "cell_type": "markdown",
   "source": [
    "Note: Because ResST pends on pytorch, you should make sure torch is correctly installed.\n",
    "\n",
    "Download the package from Github and install it locally:"
   ],
   "metadata": {
    "collapsed": false
   },
   "id": "810032c0b93475ce"
  },
  {
   "cell_type": "code",
   "outputs": [],
   "source": [
    "git clone https://github.com/StickTaTa/ResST_main.git\n",
    "cd ResST_main\n",
    "pip install -r requirements.txt"
   ],
   "metadata": {
    "collapsed": false,
    "ExecuteTime": {
     "end_time": "2024-04-22T07:01:15.260583800Z",
     "start_time": "2024-04-22T07:01:15.248583900Z"
    }
   },
   "id": "fff435718ef8d071",
   "execution_count": 2
  },
  {
   "cell_type": "markdown",
   "source": [
    "## 2. Import modules"
   ],
   "metadata": {
    "collapsed": false
   },
   "id": "ec02b6bd4c727af0"
  },
  {
   "cell_type": "code",
   "outputs": [],
   "source": [
    "import anndata\n",
    "import pandas as pd\n",
    "import scanpy as sc\n",
    "import os\n",
    "\n",
    "import sklearn\n",
    "from scipy.spatial import distance\n",
    "\n",
    "from resst.model_ST_utils import trainer, priori_cluster, plot_map\n",
    "from resst.get_adata import get_data, refine\n",
    "from resst.preprocess import get_enhance_feature"
   ],
   "metadata": {
    "collapsed": false,
    "ExecuteTime": {
     "end_time": "2024-04-22T07:33:21.798286Z",
     "start_time": "2024-04-22T07:33:21.789285300Z"
    }
   },
   "id": "b8bf71325ea527df",
   "execution_count": 3
  },
  {
   "cell_type": "markdown",
   "source": [
    "## 3. Reading in data\n",
    "Data can be downloaded from [Human dorsolateral prefrontal cortex 10× Visium data](http://research.libd.org/spatialLIBD/), [Mouse brain 10× Visium data](https://support.10xgenomics.com/spatial-gene-expression/datasets), [Human breast cancer 10× Visium data](https://support.10xgenomics.com/spatial-gene-expression/datasets), [4i and MIBI-TOF dataset](https://github.com/scverse/squidpy), [mouse hippocampus dataset](https://portals.broadinstitute.org/single_cell/study/slide-seq-study), [Hypothalamic Preoptic Region MERFISH dataset](https://doi.org/10.1126%2Fscience.aau5324), [Adult Macaque Cortex Stereoseq dataset](https://www.nature.com/articles/s41467-022-34413-3), [Sagittal mouse embryos seqFISH dataset](https://www.nature.com/articles/s41587-021-01006-2).\n"
   ],
   "metadata": {
    "collapsed": false
   },
   "id": "7fe2abeb14fb1644"
  },
  {
   "cell_type": "code",
   "outputs": [],
   "source": [
    "# setting data_name, generated_data_path, model_path(save model), result_path(save results)\n",
    "data_name = 'V1_Breast_Cancer_Block_A_Section_1'\n",
    "generated_data_path = 'generated_data'\n",
    "model_path = os.path.join('model/', data_name)\n",
    "result_path = os.path.join('results/', data_name)\n",
    "\n",
    "if not os.path.exists(generated_data_path):\n",
    "    os.makedirs(generated_data_path)\n",
    "if not os.path.exists(model_path):\n",
    "    os.makedirs(model_path)\n",
    "if not os.path.exists(result_path):\n",
    "    os.makedirs(result_path)"
   ],
   "metadata": {
    "collapsed": false,
    "ExecuteTime": {
     "end_time": "2024-04-22T07:33:30.157692600Z",
     "start_time": "2024-04-22T07:33:30.144657700Z"
    }
   },
   "id": "7693ff9493548c09",
   "execution_count": 4
  },
  {
   "cell_type": "code",
   "outputs": [
    {
     "name": "stderr",
     "output_type": "stream",
     "text": [
      "C:\\Users\\18456\\anaconda3\\envs\\tensorflow\\lib\\site-packages\\anndata\\_core\\anndata.py:1830: UserWarning: Variable names are not unique. To make them unique, call `.var_names_make_unique`.\n",
      "  utils.warn_names_duplicates(\"var\")\n",
      "Tiling image: 100%|██████████ [ time left: 00:00 ]\n",
      "Extract image feature: 100%|██████████ [ time left: 00:00 ]  \n"
     ]
    }
   ],
   "source": [
    "adata = get_data(data_path='dataset', data_name=data_name,\n",
    "                 generated_data_path=generated_data_path,\n",
    "                 cnnType='ResNet50')"
   ],
   "metadata": {
    "collapsed": false,
    "ExecuteTime": {
     "end_time": "2024-04-22T07:35:56.739336500Z",
     "start_time": "2024-04-22T07:33:36.125675300Z"
    }
   },
   "id": "8d860eb185cb0631",
   "execution_count": 5
  },
  {
   "cell_type": "markdown",
   "source": [
    "## 4. Enhancing gene expression matrix"
   ],
   "metadata": {
    "collapsed": false
   },
   "id": "971fb71729c89eb9"
  },
  {
   "cell_type": "code",
   "outputs": [
    {
     "name": "stdout",
     "output_type": "stream",
     "text": [
      "Physical distance calculating Done!\n",
      "The number of nearest tie neighbors in physical distance is: 32.199578725645075\n",
      "Gene correlation calculting Done!\n",
      "Morphological similarity calculting Done!\n",
      "The weight result of image feature is added to adata.obsm['weights_matrix_all'] !\n"
     ]
    },
    {
     "name": "stderr",
     "output_type": "stream",
     "text": [
      "Find adjacent spots of each spot: 100%|██████████ [ time left: 00:00 ]\n"
     ]
    }
   ],
   "source": [
    "adata = get_enhance_feature(adata)"
   ],
   "metadata": {
    "collapsed": false,
    "ExecuteTime": {
     "end_time": "2024-04-22T07:36:07.590035900Z",
     "start_time": "2024-04-22T07:36:02.734037900Z"
    }
   },
   "id": "82bd5559fc28e404",
   "execution_count": 6
  },
  {
   "cell_type": "markdown",
   "source": [
    "## 5. Training model"
   ],
   "metadata": {
    "collapsed": false
   },
   "id": "a9b910af6744bd46"
  },
  {
   "cell_type": "code",
   "outputs": [
    {
     "name": "stderr",
     "output_type": "stream",
     "text": [
      "Model is training...: 100%|██████████ [ time left: 00:00 ]"
     ]
    },
    {
     "name": "stdout",
     "output_type": "stream",
     "text": [
      "resst training has been Done! the embeddings has been stored adata.obsm[\"embed\"].\n"
     ]
    },
    {
     "name": "stderr",
     "output_type": "stream",
     "text": [
      "\n"
     ]
    }
   ],
   "source": [
    "adata = trainer(adata, save_path=result_path, data_name=data_name)"
   ],
   "metadata": {
    "collapsed": false,
    "ExecuteTime": {
     "end_time": "2024-04-22T07:37:52.616430400Z",
     "start_time": "2024-04-22T07:36:13.840318300Z"
    }
   },
   "id": "667a1ee57dddc79b",
   "execution_count": 7
  },
  {
   "cell_type": "markdown",
   "source": [
    "## 6. Clustering"
   ],
   "metadata": {
    "collapsed": false
   },
   "id": "7bc12aff15cace30"
  },
  {
   "cell_type": "code",
   "outputs": [
    {
     "name": "stdout",
     "output_type": "stream",
     "text": [
      "Current count: 36\n",
      "Current count: 36\n",
      "Current count: 36\n",
      "Current count: 36\n",
      "Current count: 36\n",
      "Current count: 36\n",
      "Current count: 36\n",
      "Current count: 36\n",
      "Current count: 36\n",
      "Current count: 35\n",
      "Current count: 35\n",
      "Current count: 36\n",
      "Current count: 37\n",
      "Current count: 37\n",
      "Current count: 37\n",
      "Current count: 34\n",
      "Current count: 35\n",
      "Current count: 36\n",
      "Current count: 35\n",
      "Current count: 35\n",
      "Current count: 35\n",
      "Current count: 35\n",
      "Current count: 35\n",
      "Current count: 35\n",
      "Current count: 33\n",
      "Current count: 34\n",
      "Current count: 34\n",
      "Current count: 34\n",
      "Current count: 32\n",
      "Current count: 34\n",
      "Current count: 34\n",
      "Current count: 34\n",
      "Current count: 33\n",
      "Current count: 33\n",
      "Current count: 33\n",
      "Current count: 33\n",
      "Current count: 33\n",
      "Current count: 31\n",
      "Current count: 34\n",
      "Current count: 34\n",
      "Current count: 34\n",
      "Current count: 33\n",
      "Current count: 33\n",
      "Current count: 32\n",
      "Current count: 32\n",
      "Current count: 30\n",
      "Current count: 33\n",
      "Current count: 31\n",
      "Current count: 31\n",
      "Current count: 32\n",
      "Current count: 32\n",
      "Current count: 30\n",
      "Current count: 30\n",
      "Current count: 30\n",
      "Current count: 30\n",
      "Current count: 31\n",
      "Current count: 30\n",
      "Current count: 30\n",
      "Current count: 28\n",
      "Current count: 30\n",
      "Current count: 28\n",
      "Current count: 31\n",
      "Current count: 30\n",
      "Current count: 31\n",
      "Current count: 32\n",
      "Current count: 30\n",
      "Current count: 30\n",
      "Current count: 30\n",
      "Current count: 28\n",
      "Current count: 28\n",
      "Current count: 28\n",
      "Current count: 28\n",
      "Current count: 29\n",
      "Current count: 28\n",
      "Current count: 29\n",
      "Current count: 29\n",
      "Current count: 29\n",
      "Current count: 28\n",
      "Current count: 28\n",
      "Current count: 28\n",
      "Current count: 28\n",
      "Current count: 28\n",
      "Current count: 28\n",
      "Current count: 28\n",
      "Current count: 28\n",
      "Current count: 28\n",
      "Current count: 28\n",
      "Current count: 27\n",
      "Current count: 28\n",
      "Current count: 28\n",
      "Current count: 28\n",
      "Current count: 27\n",
      "Current count: 28\n",
      "Current count: 28\n",
      "Current count: 26\n",
      "Current count: 26\n",
      "Current count: 26\n",
      "Current count: 25\n",
      "Current count: 26\n",
      "Current count: 26\n",
      "Current count: 27\n",
      "Current count: 26\n",
      "Current count: 25\n",
      "Current count: 25\n",
      "Current count: 25\n",
      "Current count: 25\n",
      "Current count: 24\n",
      "Current count: 24\n",
      "Current count: 24\n",
      "Current count: 23\n",
      "Current count: 23\n",
      "Current count: 23\n",
      "Current count: 23\n",
      "Current count: 23\n",
      "Current count: 23\n",
      "Current count: 23\n",
      "Current count: 23\n",
      "Current count: 23\n",
      "Current count: 23\n",
      "Current count: 23\n",
      "Current count: 23\n",
      "Current count: 23\n",
      "Current count: 23\n",
      "Current count: 23\n",
      "Current count: 23\n",
      "Current count: 24\n",
      "Current count: 24\n",
      "Current count: 23\n",
      "Current count: 23\n",
      "Current count: 23\n",
      "Current count: 23\n",
      "Current count: 23\n",
      "Current count: 22\n",
      "Current count: 23\n",
      "Current count: 23\n",
      "Current count: 23\n",
      "Current count: 22\n",
      "Current count: 22\n",
      "Current count: 21\n",
      "Current count: 21\n",
      "Current count: 21\n",
      "Current count: 23\n",
      "Current count: 21\n",
      "Current count: 22\n",
      "Current count: 22\n",
      "Current count: 21\n",
      "Current count: 20\n",
      "Current count: 20\n",
      "Current count: 20\n",
      "Current count: 20\n",
      "Current count: 20\n",
      "Current count: 20\n",
      "Current count: 21\n",
      "Current count: 20\n",
      "Current count: 20\n",
      "Current count: 20\n",
      "Current count: 19\n",
      "Best resolution:  0.9299999999999996\n"
     ]
    }
   ],
   "source": [
    "n_clusters = 19\n",
    "cluster_adata = anndata.AnnData(adata.obsm[\"embed\"])\n",
    "cluster_adata.obs_names = adata.obs_names\n",
    "sc.pp.neighbors(cluster_adata, n_neighbors=15)\n",
    "\n",
    "res = priori_cluster(cluster_adata, n_domains=n_clusters)\n",
    "\n",
    "sc.tl.leiden(cluster_adata, key_added=\"pred\", resolution=res, random_state=0)\n",
    "adata.obs['pred'] = cluster_adata.obs['pred']\n",
    "######### Strengthen the distribution of points in the model\n",
    "adj_2d = distance.cdist(adata.obsm['spatial'], adata.obsm['spatial'], 'euclidean')\n",
    "refined_pred = refine(sample_id=adata.obs.index.tolist(),\n",
    "                      pred=adata.obs[\"pred\"].tolist(), dis=adj_2d, shape=\"hexagon\")\n",
    "adata.obs[\"refine_pred\"] = refined_pred"
   ],
   "metadata": {
    "collapsed": false,
    "ExecuteTime": {
     "end_time": "2024-04-22T07:39:02.392536400Z",
     "start_time": "2024-04-22T07:38:22.574834200Z"
    }
   },
   "id": "f1433af2c63fb59f",
   "execution_count": 8
  },
  {
   "cell_type": "markdown",
   "source": [
    "## 7. Visualization"
   ],
   "metadata": {
    "collapsed": false
   },
   "id": "23e770bd03b8bc5d"
  },
  {
   "cell_type": "code",
   "outputs": [],
   "source": [
    "plot_map(adata, save_path=result_path, data_name=data_name)"
   ],
   "metadata": {
    "collapsed": false
   },
   "id": "1f337d7ecacfc065",
   "execution_count": null
  },
  {
   "cell_type": "markdown",
   "source": [
    "![本地路径](results/V1_Breast_Cancer_Block_A_Section_1/Figure/V1_Breast_Cancer_Block_A_Section_1/V1_Breast_Cancer_Block_A_Section_1_umap.png)"
   ],
   "metadata": {
    "collapsed": false
   },
   "id": "5da2b0cdab961040"
  }
 ],
 "metadata": {
  "kernelspec": {
   "display_name": "Python 3",
   "language": "python",
   "name": "python3"
  },
  "language_info": {
   "codemirror_mode": {
    "name": "ipython",
    "version": 2
   },
   "file_extension": ".py",
   "mimetype": "text/x-python",
   "name": "python",
   "nbconvert_exporter": "python",
   "pygments_lexer": "ipython2",
   "version": "2.7.6"
  }
 },
 "nbformat": 4,
 "nbformat_minor": 5
}
