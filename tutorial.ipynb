{
 "cells": [
  {
   "cell_type": "markdown",
   "source": [
    "# ResST Tutorial\n",
    "Author: Jinjin Huang\n"
   ],
   "metadata": {
    "collapsed": false
   },
   "id": "15f0d0304f2bbc43"
  },
  {
   "cell_type": "markdown",
   "source": [
    "## Outline\n",
    "1. Installation\n",
    "2. import modules\n",
    "3. Reading in data\n",
    "4. Enhancing gene expression matrix\n",
    "5. Clustering\n",
    "6. "
   ],
   "metadata": {
    "collapsed": false
   },
   "id": "86511aa53e201e3d"
  },
  {
   "cell_type": "markdown",
   "source": [
    "## 1. Installation\n",
    "To install ResST package you must make sure that your python version is over 3.7.=. If you don’t know the version of python you can check it by:"
   ],
   "metadata": {
    "collapsed": false
   },
   "id": "36c0b73265d24890"
  },
  {
   "cell_type": "code",
   "outputs": [
    {
     "data": {
      "text/plain": "'3.7.0'"
     },
     "execution_count": 2,
     "metadata": {},
     "output_type": "execute_result"
    }
   ],
   "source": [
    "import platform\n",
    "platform.python_version()"
   ],
   "metadata": {
    "collapsed": false,
    "ExecuteTime": {
     "end_time": "2024-04-22T07:01:15.253583600Z",
     "start_time": "2024-04-22T07:01:15.235583900Z"
    }
   },
   "id": "c11647274fc0730a",
   "execution_count": 2
  },
  {
   "cell_type": "markdown",
   "source": [
    "Note: Because ResST pends on pytorch, you should make sure torch is correctly installed.\n",
    "\n",
    "Download the package from Github and install it locally:"
   ],
   "metadata": {
    "collapsed": false
   },
   "id": "810032c0b93475ce"
  },
  {
   "cell_type": "code",
   "outputs": [],
   "source": [
    "git clone https://github.com/StickTaTa/ResST_main.git\n",
    "cd ResST_main\n",
    "pip install -r requirements.txt"
   ],
   "metadata": {
    "collapsed": false,
    "ExecuteTime": {
     "end_time": "2024-04-22T07:01:15.260583800Z",
     "start_time": "2024-04-22T07:01:15.248583900Z"
    }
   },
   "id": "fff435718ef8d071",
   "execution_count": 2
  },
  {
   "cell_type": "code",
   "outputs": [],
   "source": [],
   "metadata": {
    "collapsed": false
   },
   "id": "1f33a9ebdf5165b5"
  }
 ],
 "metadata": {
  "kernelspec": {
   "display_name": "Python 3",
   "language": "python",
   "name": "python3"
  },
  "language_info": {
   "codemirror_mode": {
    "name": "ipython",
    "version": 2
   },
   "file_extension": ".py",
   "mimetype": "text/x-python",
   "name": "python",
   "nbconvert_exporter": "python",
   "pygments_lexer": "ipython2",
   "version": "2.7.6"
  }
 },
 "nbformat": 4,
 "nbformat_minor": 5
}
